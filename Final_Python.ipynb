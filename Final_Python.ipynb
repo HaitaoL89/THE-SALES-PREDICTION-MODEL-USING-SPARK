{
 "cells": [
  {
   "cell_type": "code",
   "execution_count": 50,
   "metadata": {},
   "outputs": [],
   "source": [
    "import pandas as pd\n",
    "import numpy as np\n",
    "import seaborn as sns\n",
    "import sklearn.metrics\n",
    "from sklearn.model_selection import GridSearchCV\n",
    "import matplotlib.pyplot as plt"
   ]
  },
  {
   "cell_type": "markdown",
   "metadata": {},
   "source": [
    "# Feature Engineering"
   ]
  },
  {
   "cell_type": "code",
   "execution_count": 141,
   "metadata": {},
   "outputs": [],
   "source": [
    "dt = pd.read_csv(\"/Users/jason/Desktop/competition/competitive-data-science-predict-future-sales/sales_train.csv\")\n",
    "dt_categories= pd.read_csv(\"/Users/jason/Desktop/competition/competitive-data-science-predict-future-sales/items.csv\")"
   ]
  },
  {
   "cell_type": "code",
   "execution_count": 142,
   "metadata": {},
   "outputs": [],
   "source": [
    "dt2 = dt.groupby(['date_block_num', 'shop_id',\"item_id\"]).agg({'item_cnt_day': ['sum'],\"item_price\":['mean']})\n",
    "dt2.columns = ['item_cnt_month','item_price']\n",
    "dt2 = dt2.reset_index()\n",
    "dt_categories= dt_categories[[\"item_id\",\"item_category_id\"]]\n",
    "dt3=pd.merge(dt2,dt_categories, on=\"item_id\", how=\"left\")"
   ]
  },
  {
   "cell_type": "code",
   "execution_count": 143,
   "metadata": {},
   "outputs": [
    {
     "data": {
      "text/html": [
       "<div>\n",
       "<style scoped>\n",
       "    .dataframe tbody tr th:only-of-type {\n",
       "        vertical-align: middle;\n",
       "    }\n",
       "\n",
       "    .dataframe tbody tr th {\n",
       "        vertical-align: top;\n",
       "    }\n",
       "\n",
       "    .dataframe thead th {\n",
       "        text-align: right;\n",
       "    }\n",
       "</style>\n",
       "<table border=\"1\" class=\"dataframe\">\n",
       "  <thead>\n",
       "    <tr style=\"text-align: right;\">\n",
       "      <th></th>\n",
       "      <th>date_block_num</th>\n",
       "      <th>shop_id</th>\n",
       "      <th>item_id</th>\n",
       "      <th>item_cnt_month</th>\n",
       "      <th>item_price</th>\n",
       "      <th>item_category_id</th>\n",
       "    </tr>\n",
       "  </thead>\n",
       "  <tbody>\n",
       "    <tr>\n",
       "      <th>0</th>\n",
       "      <td>0</td>\n",
       "      <td>0</td>\n",
       "      <td>32</td>\n",
       "      <td>6.0</td>\n",
       "      <td>221.0</td>\n",
       "      <td>40</td>\n",
       "    </tr>\n",
       "    <tr>\n",
       "      <th>1</th>\n",
       "      <td>0</td>\n",
       "      <td>0</td>\n",
       "      <td>33</td>\n",
       "      <td>3.0</td>\n",
       "      <td>347.0</td>\n",
       "      <td>37</td>\n",
       "    </tr>\n",
       "    <tr>\n",
       "      <th>2</th>\n",
       "      <td>0</td>\n",
       "      <td>0</td>\n",
       "      <td>35</td>\n",
       "      <td>1.0</td>\n",
       "      <td>247.0</td>\n",
       "      <td>40</td>\n",
       "    </tr>\n",
       "    <tr>\n",
       "      <th>3</th>\n",
       "      <td>0</td>\n",
       "      <td>0</td>\n",
       "      <td>43</td>\n",
       "      <td>1.0</td>\n",
       "      <td>221.0</td>\n",
       "      <td>40</td>\n",
       "    </tr>\n",
       "    <tr>\n",
       "      <th>4</th>\n",
       "      <td>0</td>\n",
       "      <td>0</td>\n",
       "      <td>51</td>\n",
       "      <td>2.0</td>\n",
       "      <td>128.5</td>\n",
       "      <td>57</td>\n",
       "    </tr>\n",
       "    <tr>\n",
       "      <th>...</th>\n",
       "      <td>...</td>\n",
       "      <td>...</td>\n",
       "      <td>...</td>\n",
       "      <td>...</td>\n",
       "      <td>...</td>\n",
       "      <td>...</td>\n",
       "    </tr>\n",
       "    <tr>\n",
       "      <th>1609119</th>\n",
       "      <td>33</td>\n",
       "      <td>59</td>\n",
       "      <td>22087</td>\n",
       "      <td>6.0</td>\n",
       "      <td>119.0</td>\n",
       "      <td>83</td>\n",
       "    </tr>\n",
       "    <tr>\n",
       "      <th>1609120</th>\n",
       "      <td>33</td>\n",
       "      <td>59</td>\n",
       "      <td>22088</td>\n",
       "      <td>2.0</td>\n",
       "      <td>119.0</td>\n",
       "      <td>83</td>\n",
       "    </tr>\n",
       "    <tr>\n",
       "      <th>1609121</th>\n",
       "      <td>33</td>\n",
       "      <td>59</td>\n",
       "      <td>22091</td>\n",
       "      <td>1.0</td>\n",
       "      <td>179.0</td>\n",
       "      <td>83</td>\n",
       "    </tr>\n",
       "    <tr>\n",
       "      <th>1609122</th>\n",
       "      <td>33</td>\n",
       "      <td>59</td>\n",
       "      <td>22100</td>\n",
       "      <td>1.0</td>\n",
       "      <td>629.0</td>\n",
       "      <td>42</td>\n",
       "    </tr>\n",
       "    <tr>\n",
       "      <th>1609123</th>\n",
       "      <td>33</td>\n",
       "      <td>59</td>\n",
       "      <td>22102</td>\n",
       "      <td>1.0</td>\n",
       "      <td>1250.0</td>\n",
       "      <td>42</td>\n",
       "    </tr>\n",
       "  </tbody>\n",
       "</table>\n",
       "<p>1609124 rows × 6 columns</p>\n",
       "</div>"
      ],
      "text/plain": [
       "         date_block_num  shop_id  item_id  item_cnt_month  item_price  \\\n",
       "0                     0        0       32             6.0       221.0   \n",
       "1                     0        0       33             3.0       347.0   \n",
       "2                     0        0       35             1.0       247.0   \n",
       "3                     0        0       43             1.0       221.0   \n",
       "4                     0        0       51             2.0       128.5   \n",
       "...                 ...      ...      ...             ...         ...   \n",
       "1609119              33       59    22087             6.0       119.0   \n",
       "1609120              33       59    22088             2.0       119.0   \n",
       "1609121              33       59    22091             1.0       179.0   \n",
       "1609122              33       59    22100             1.0       629.0   \n",
       "1609123              33       59    22102             1.0      1250.0   \n",
       "\n",
       "         item_category_id  \n",
       "0                      40  \n",
       "1                      37  \n",
       "2                      40  \n",
       "3                      40  \n",
       "4                      57  \n",
       "...                   ...  \n",
       "1609119                83  \n",
       "1609120                83  \n",
       "1609121                83  \n",
       "1609122                42  \n",
       "1609123                42  \n",
       "\n",
       "[1609124 rows x 6 columns]"
      ]
     },
     "execution_count": 143,
     "metadata": {},
     "output_type": "execute_result"
    }
   ],
   "source": [
    "dt3"
   ]
  },
  {
   "cell_type": "code",
   "execution_count": 263,
   "metadata": {},
   "outputs": [
    {
     "data": {
      "text/html": [
       "<div>\n",
       "<style scoped>\n",
       "    .dataframe tbody tr th:only-of-type {\n",
       "        vertical-align: middle;\n",
       "    }\n",
       "\n",
       "    .dataframe tbody tr th {\n",
       "        vertical-align: top;\n",
       "    }\n",
       "\n",
       "    .dataframe thead th {\n",
       "        text-align: right;\n",
       "    }\n",
       "</style>\n",
       "<table border=\"1\" class=\"dataframe\">\n",
       "  <thead>\n",
       "    <tr style=\"text-align: right;\">\n",
       "      <th></th>\n",
       "      <th>date_block_num</th>\n",
       "      <th>shop_id</th>\n",
       "      <th>item_id</th>\n",
       "      <th>item_cnt_month</th>\n",
       "      <th>item_price</th>\n",
       "      <th>item_category_id</th>\n",
       "      <th>item_cnt_month_lag_1</th>\n",
       "      <th>item_cnt_month_lag_2</th>\n",
       "      <th>item_cnt_month_lag_3</th>\n",
       "      <th>item_cnt_month_lag_6</th>\n",
       "      <th>item_cnt_month_lag_12</th>\n",
       "    </tr>\n",
       "  </thead>\n",
       "  <tbody>\n",
       "    <tr>\n",
       "      <th>0</th>\n",
       "      <td>0</td>\n",
       "      <td>0</td>\n",
       "      <td>32</td>\n",
       "      <td>6</td>\n",
       "      <td>221.0</td>\n",
       "      <td>40</td>\n",
       "      <td>0.0</td>\n",
       "      <td>0.0</td>\n",
       "      <td>0.0</td>\n",
       "      <td>0.0</td>\n",
       "      <td>0.0</td>\n",
       "    </tr>\n",
       "    <tr>\n",
       "      <th>1</th>\n",
       "      <td>0</td>\n",
       "      <td>0</td>\n",
       "      <td>33</td>\n",
       "      <td>3</td>\n",
       "      <td>347.0</td>\n",
       "      <td>37</td>\n",
       "      <td>0.0</td>\n",
       "      <td>0.0</td>\n",
       "      <td>0.0</td>\n",
       "      <td>0.0</td>\n",
       "      <td>0.0</td>\n",
       "    </tr>\n",
       "    <tr>\n",
       "      <th>2</th>\n",
       "      <td>0</td>\n",
       "      <td>0</td>\n",
       "      <td>35</td>\n",
       "      <td>1</td>\n",
       "      <td>247.0</td>\n",
       "      <td>40</td>\n",
       "      <td>0.0</td>\n",
       "      <td>0.0</td>\n",
       "      <td>0.0</td>\n",
       "      <td>0.0</td>\n",
       "      <td>0.0</td>\n",
       "    </tr>\n",
       "    <tr>\n",
       "      <th>3</th>\n",
       "      <td>0</td>\n",
       "      <td>0</td>\n",
       "      <td>43</td>\n",
       "      <td>1</td>\n",
       "      <td>221.0</td>\n",
       "      <td>40</td>\n",
       "      <td>0.0</td>\n",
       "      <td>0.0</td>\n",
       "      <td>0.0</td>\n",
       "      <td>0.0</td>\n",
       "      <td>0.0</td>\n",
       "    </tr>\n",
       "    <tr>\n",
       "      <th>4</th>\n",
       "      <td>0</td>\n",
       "      <td>0</td>\n",
       "      <td>51</td>\n",
       "      <td>2</td>\n",
       "      <td>128.5</td>\n",
       "      <td>57</td>\n",
       "      <td>0.0</td>\n",
       "      <td>0.0</td>\n",
       "      <td>0.0</td>\n",
       "      <td>0.0</td>\n",
       "      <td>0.0</td>\n",
       "    </tr>\n",
       "    <tr>\n",
       "      <th>...</th>\n",
       "      <td>...</td>\n",
       "      <td>...</td>\n",
       "      <td>...</td>\n",
       "      <td>...</td>\n",
       "      <td>...</td>\n",
       "      <td>...</td>\n",
       "      <td>...</td>\n",
       "      <td>...</td>\n",
       "      <td>...</td>\n",
       "      <td>...</td>\n",
       "      <td>...</td>\n",
       "    </tr>\n",
       "    <tr>\n",
       "      <th>1609119</th>\n",
       "      <td>33</td>\n",
       "      <td>59</td>\n",
       "      <td>22087</td>\n",
       "      <td>6</td>\n",
       "      <td>119.0</td>\n",
       "      <td>83</td>\n",
       "      <td>3.0</td>\n",
       "      <td>2.0</td>\n",
       "      <td>5.0</td>\n",
       "      <td>2.0</td>\n",
       "      <td>6.0</td>\n",
       "    </tr>\n",
       "    <tr>\n",
       "      <th>1609120</th>\n",
       "      <td>33</td>\n",
       "      <td>59</td>\n",
       "      <td>22088</td>\n",
       "      <td>2</td>\n",
       "      <td>119.0</td>\n",
       "      <td>83</td>\n",
       "      <td>1.0</td>\n",
       "      <td>7.0</td>\n",
       "      <td>7.0</td>\n",
       "      <td>3.0</td>\n",
       "      <td>7.0</td>\n",
       "    </tr>\n",
       "    <tr>\n",
       "      <th>1609121</th>\n",
       "      <td>33</td>\n",
       "      <td>59</td>\n",
       "      <td>22091</td>\n",
       "      <td>1</td>\n",
       "      <td>179.0</td>\n",
       "      <td>83</td>\n",
       "      <td>3.0</td>\n",
       "      <td>0.0</td>\n",
       "      <td>0.0</td>\n",
       "      <td>0.0</td>\n",
       "      <td>1.0</td>\n",
       "    </tr>\n",
       "    <tr>\n",
       "      <th>1609122</th>\n",
       "      <td>33</td>\n",
       "      <td>59</td>\n",
       "      <td>22100</td>\n",
       "      <td>1</td>\n",
       "      <td>629.0</td>\n",
       "      <td>42</td>\n",
       "      <td>1.0</td>\n",
       "      <td>0.0</td>\n",
       "      <td>0.0</td>\n",
       "      <td>0.0</td>\n",
       "      <td>0.0</td>\n",
       "    </tr>\n",
       "    <tr>\n",
       "      <th>1609123</th>\n",
       "      <td>33</td>\n",
       "      <td>59</td>\n",
       "      <td>22102</td>\n",
       "      <td>1</td>\n",
       "      <td>1250.0</td>\n",
       "      <td>42</td>\n",
       "      <td>0.0</td>\n",
       "      <td>2.0</td>\n",
       "      <td>0.0</td>\n",
       "      <td>0.0</td>\n",
       "      <td>0.0</td>\n",
       "    </tr>\n",
       "  </tbody>\n",
       "</table>\n",
       "<p>1588382 rows × 11 columns</p>\n",
       "</div>"
      ],
      "text/plain": [
       "         date_block_num  shop_id  item_id  item_cnt_month  item_price  \\\n",
       "0                     0        0       32               6       221.0   \n",
       "1                     0        0       33               3       347.0   \n",
       "2                     0        0       35               1       247.0   \n",
       "3                     0        0       43               1       221.0   \n",
       "4                     0        0       51               2       128.5   \n",
       "...                 ...      ...      ...             ...         ...   \n",
       "1609119              33       59    22087               6       119.0   \n",
       "1609120              33       59    22088               2       119.0   \n",
       "1609121              33       59    22091               1       179.0   \n",
       "1609122              33       59    22100               1       629.0   \n",
       "1609123              33       59    22102               1      1250.0   \n",
       "\n",
       "         item_category_id  item_cnt_month_lag_1  item_cnt_month_lag_2  \\\n",
       "0                      40                   0.0                   0.0   \n",
       "1                      37                   0.0                   0.0   \n",
       "2                      40                   0.0                   0.0   \n",
       "3                      40                   0.0                   0.0   \n",
       "4                      57                   0.0                   0.0   \n",
       "...                   ...                   ...                   ...   \n",
       "1609119                83                   3.0                   2.0   \n",
       "1609120                83                   1.0                   7.0   \n",
       "1609121                83                   3.0                   0.0   \n",
       "1609122                42                   1.0                   0.0   \n",
       "1609123                42                   0.0                   2.0   \n",
       "\n",
       "         item_cnt_month_lag_3  item_cnt_month_lag_6  item_cnt_month_lag_12  \n",
       "0                         0.0                   0.0                    0.0  \n",
       "1                         0.0                   0.0                    0.0  \n",
       "2                         0.0                   0.0                    0.0  \n",
       "3                         0.0                   0.0                    0.0  \n",
       "4                         0.0                   0.0                    0.0  \n",
       "...                       ...                   ...                    ...  \n",
       "1609119                   5.0                   2.0                    6.0  \n",
       "1609120                   7.0                   3.0                    7.0  \n",
       "1609121                   0.0                   0.0                    1.0  \n",
       "1609122                   0.0                   0.0                    0.0  \n",
       "1609123                   0.0                   0.0                    0.0  \n",
       "\n",
       "[1588382 rows x 11 columns]"
      ]
     },
     "execution_count": 263,
     "metadata": {},
     "output_type": "execute_result"
    }
   ],
   "source": [
    "def lag_feature(dt3, lags, col):\n",
    "    tmp = dt3[['date_block_num','shop_id','item_id',col]]\n",
    "    for i in lags:\n",
    "        shifted = tmp.copy()\n",
    "        shifted.columns = ['date_block_num','shop_id','item_id', col+'_lag_'+str(i)]\n",
    "        shifted['date_block_num'] += i\n",
    "        dt3 = pd.merge(dt3, shifted, on=['date_block_num','shop_id','item_id'], how='left')\n",
    "    return dt3\n",
    "\n",
    "df = lag_feature(dt3, [1,2,3,6,12], 'item_cnt_month')\n",
    "df = df.fillna(0)\n",
    "df['item_cnt_month'] = df['item_cnt_month'].astype(np.float16)\n",
    "df[\"item_cnt_month\"]=df[\"item_cnt_month\"].astype(np.int16)\n",
    "df[\"item_price\"]=df[\"item_price\"].astype(float).fillna(0.0)\n",
    "df=df[df[\"shop_id\"]!=12]\n",
    "df"
   ]
  },
  {
   "cell_type": "markdown",
   "metadata": {},
   "source": [
    "# Split Data\n",
    "\n",
    "It's time series data, so we cannot randomly subsample the data.\n",
    "\n",
    "We reduce the amount of data by limiting number of shop that we are going to predict.\n",
    "\n",
    "There are 60 shops in total"
   ]
  },
  {
   "cell_type": "code",
   "execution_count": 267,
   "metadata": {},
   "outputs": [],
   "source": [
    "#predict 5 stores\n",
    "shop_number=12"
   ]
  },
  {
   "cell_type": "code",
   "execution_count": 268,
   "metadata": {},
   "outputs": [],
   "source": [
    "df_sub=df[df[\"shop_id\"]<shop_number]\n",
    "\n",
    "Train =df_sub[(df_sub[\"date_block_num\"]<33) ]\n",
    "Test  =df_sub[df_sub[\"date_block_num\"]==33] \n",
    "\n",
    "tt=pd.merge(Train,Test,on=['shop_id','item_id'], how='inner')[['shop_id','item_id']]\n",
    "Train=pd.merge(tt,Train,on=['shop_id','item_id'], how='left')\n",
    "Test=pd.merge(tt,Test,on=['shop_id','item_id'], how='left')\n",
    "\n",
    "X_train= Train.drop(columns=\"item_cnt_month\")\n",
    "Y_train= Train[\"item_cnt_month\"]\n",
    "X_test=Test.drop(columns=\"item_cnt_month\")\n",
    "Y_test=Test[\"item_cnt_month\"]"
   ]
  },
  {
   "cell_type": "code",
   "execution_count": 269,
   "metadata": {},
   "outputs": [
    {
     "name": "stdout",
     "output_type": "stream",
     "text": [
      "RMSE using mean value:\n"
     ]
    },
    {
     "data": {
      "text/plain": [
       "6.118904889782007"
      ]
     },
     "execution_count": 269,
     "metadata": {},
     "output_type": "execute_result"
    }
   ],
   "source": [
    "#create baseline using mean value\n",
    "a=np.mean(np.array(Y_train))\n",
    "baseline_preds= np.repeat(a, len(Y_test))\n",
    "print(\"RMSE using mean value:\")\n",
    "np.sqrt(sklearn.metrics.mean_squared_error(np.array(baseline_preds), np.array(Y_test)))"
   ]
  },
  {
   "cell_type": "markdown",
   "metadata": {},
   "source": [
    "# RandomForest"
   ]
  },
  {
   "cell_type": "code",
   "execution_count": 37,
   "metadata": {},
   "outputs": [],
   "source": [
    "from sklearn.ensemble import RandomForestRegressor"
   ]
  },
  {
   "cell_type": "code",
   "execution_count": null,
   "metadata": {},
   "outputs": [],
   "source": [
    "from sklearn.model_selection import GridSearchCV\n",
    "# find the best parameter\n",
    "parameters = {'n_estimators':[50,80,100], 'max_depth':[5,8,11,14]}\n",
    "rf = RandomForestRegressor()\n",
    "find_best = GridSearchCV(rf, parameters)\n",
    "find_best.fit(X_train, Y_train)"
   ]
  },
  {
   "cell_type": "code",
   "execution_count": 59,
   "metadata": {},
   "outputs": [
    {
     "name": "stdout",
     "output_type": "stream",
     "text": [
      "{'max_depth': 8, 'n_estimators': 80} 0.28932669777597325\n"
     ]
    }
   ],
   "source": [
    "print(find_best.best_params_,find_best.best_score_)"
   ]
  },
  {
   "cell_type": "code",
   "execution_count": 189,
   "metadata": {},
   "outputs": [
    {
     "name": "stdout",
     "output_type": "stream",
     "text": [
      "Mean Absolute Error: 1.28 degrees.\n",
      "Total Absolute Error: 90145.0 degrees.\n",
      "RMSE on predicted month 33: 2.3520608128284923\n"
     ]
    }
   ],
   "source": [
    "rf = RandomForestRegressor(n_estimators=80, max_depth=8, n_jobs=-1)\n",
    "rf.fit(X_train, Y_train)\n",
    "Y_pred = rf.predict(X_test)\n",
    "\n",
    "Y_pred_int=[]\n",
    "for i in Y_pred:\n",
    "    Y_pred_int.append(round(i))\n",
    "    \n",
    "errors = abs(Y_pred_int - np.array(Y_test))\n",
    "print('Mean Absolute Error:', round(np.mean(errors), 2), 'degrees.')\n",
    "print('Total Absolute Error:', round(np.sum(errors), 2), 'degrees.')\n",
    "print(\"RMSE on predicted month 33: {}\".format(np.sqrt(sklearn.metrics.mean_squared_error(np.array(Y_test), Y_pred))))"
   ]
  },
  {
   "cell_type": "code",
   "execution_count": null,
   "metadata": {},
   "outputs": [],
   "source": []
  },
  {
   "cell_type": "markdown",
   "metadata": {},
   "source": [
    "# Gradient-boosted  Regression "
   ]
  },
  {
   "cell_type": "code",
   "execution_count": 43,
   "metadata": {},
   "outputs": [],
   "source": [
    "from sklearn import ensemble"
   ]
  },
  {
   "cell_type": "code",
   "execution_count": 86,
   "metadata": {},
   "outputs": [
    {
     "data": {
      "text/plain": [
       "GridSearchCV(cv=None, error_score=nan,\n",
       "             estimator=GradientBoostingRegressor(alpha=0.9, ccp_alpha=0.0,\n",
       "                                                 criterion='friedman_mse',\n",
       "                                                 init=None, learning_rate=0.1,\n",
       "                                                 loss='ls', max_depth=3,\n",
       "                                                 max_features=None,\n",
       "                                                 max_leaf_nodes=None,\n",
       "                                                 min_impurity_decrease=0.0,\n",
       "                                                 min_impurity_split=None,\n",
       "                                                 min_samples_leaf=1,\n",
       "                                                 min_samples_split=2,\n",
       "                                                 min_weight_fraction_leaf=0.0,\n",
       "                                                 n_estimators=100,\n",
       "                                                 n_iter_no_change=None,\n",
       "                                                 presort='deprecated',\n",
       "                                                 random_state=None,\n",
       "                                                 subsample=1.0, tol=0.0001,\n",
       "                                                 validation_fraction=0.1,\n",
       "                                                 verbose=0, warm_start=False),\n",
       "             iid='deprecated', n_jobs=None,\n",
       "             param_grid={'learning_rate': [0.1, 0.05], 'loss': ['ls', 'lad'],\n",
       "                         'max_depth': [4, 8, 12], 'n_estimators': [50]},\n",
       "             pre_dispatch='2*n_jobs', refit=True, return_train_score=False,\n",
       "             scoring=None, verbose=0)"
      ]
     },
     "execution_count": 86,
     "metadata": {},
     "output_type": "execute_result"
    }
   ],
   "source": [
    "# find the best parameter\n",
    "parameters = {\n",
    "             'learning_rate': [0.1,0.05], 'loss': ['ls','lad'],\n",
    "              'max_depth': [4,8,12],'n_estimators': [50]\n",
    "             }\n",
    "GBR = ensemble.GradientBoostingRegressor()\n",
    "find_best2 = GridSearchCV(GBR, parameters)\n",
    "find_best2.fit(X_train, Y_train)"
   ]
  },
  {
   "cell_type": "code",
   "execution_count": 87,
   "metadata": {},
   "outputs": [
    {
     "name": "stdout",
     "output_type": "stream",
     "text": [
      "{'learning_rate': 0.05, 'loss': 'lad', 'max_depth': 12, 'n_estimators': 50} 0.3256252867788915\n"
     ]
    }
   ],
   "source": [
    "print(find_best2.best_params_,find_best2.best_score_)"
   ]
  },
  {
   "cell_type": "code",
   "execution_count": 190,
   "metadata": {},
   "outputs": [
    {
     "data": {
      "text/plain": [
       "GradientBoostingRegressor(alpha=0.9, ccp_alpha=0.0, criterion='friedman_mse',\n",
       "                          init=None, learning_rate=0.05, loss='lad',\n",
       "                          max_depth=8, max_features=None, max_leaf_nodes=None,\n",
       "                          min_impurity_decrease=0.0, min_impurity_split=None,\n",
       "                          min_samples_leaf=1, min_samples_split=2,\n",
       "                          min_weight_fraction_leaf=0.0, n_estimators=50,\n",
       "                          n_iter_no_change=None, presort='deprecated',\n",
       "                          random_state=None, subsample=1.0, tol=0.0001,\n",
       "                          validation_fraction=0.1, verbose=0, warm_start=False)"
      ]
     },
     "execution_count": 190,
     "metadata": {},
     "output_type": "execute_result"
    }
   ],
   "source": [
    "params = {'n_estimators': 50, 'max_depth': 8,\n",
    "          'learning_rate': 0.05, 'loss': 'lad'}\n",
    "model3 = ensemble.GradientBoostingRegressor(**params)\n",
    "model3.fit(X_train, Y_train)"
   ]
  },
  {
   "cell_type": "code",
   "execution_count": 191,
   "metadata": {},
   "outputs": [
    {
     "name": "stdout",
     "output_type": "stream",
     "text": [
      "RMSE on predicted month 33: 2.6151052110211386\n"
     ]
    }
   ],
   "source": [
    "Y_pred = model3.predict(X_test)\n",
    "print(\"RMSE on predicted month 33: {}\".format(np.sqrt(sklearn.metrics.mean_squared_error(np.array(Y_test), Y_pred))))"
   ]
  },
  {
   "cell_type": "code",
   "execution_count": 51,
   "metadata": {},
   "outputs": [
    {
     "data": {
      "image/png": "[encoded data removed]",
      "text/plain": [
       "<Figure size 432x288 with 1 Axes>"
      ]
     },
     "metadata": {
      "needs_background": "light"
     },
     "output_type": "display_data"
    }
   ],
   "source": [
    "feature_importance = model3.feature_importances_\n",
    "feature_importance = 100.0 * (feature_importance / feature_importance.max())\n",
    "sorted_idx = np.argsort(feature_importance)\n",
    "pos = np.arange(sorted_idx.shape[0]) + .5\n",
    "plt.barh(pos, feature_importance[sorted_idx], align='center')\n",
    "plt.yticks(pos, X_train.columns[sorted_idx])\n",
    "plt.xlabel('Relative Importance')\n",
    "plt.title('Variable Importance')\n",
    "plt.show()"
   ]
  },
  {
   "cell_type": "markdown",
   "metadata": {},
   "source": [
    "# LSTM"
   ]
  },
  {
   "cell_type": "code",
   "execution_count": 270,
   "metadata": {},
   "outputs": [
    {
     "name": "stderr",
     "output_type": "stream",
     "text": [
      "Using TensorFlow backend.\n",
      "/Users/jason/Documents/Software/anaconda3/lib/python3.7/site-packages/tensorflow/python/framework/dtypes.py:516: FutureWarning: Passing (type, 1) or '1type' as a synonym of type is deprecated; in a future version of numpy, it will be understood as (type, (1,)) / '(1,)type'.\n",
      "  _np_qint8 = np.dtype([(\"qint8\", np.int8, 1)])\n",
      "/Users/jason/Documents/Software/anaconda3/lib/python3.7/site-packages/tensorflow/python/framework/dtypes.py:517: FutureWarning: Passing (type, 1) or '1type' as a synonym of type is deprecated; in a future version of numpy, it will be understood as (type, (1,)) / '(1,)type'.\n",
      "  _np_quint8 = np.dtype([(\"quint8\", np.uint8, 1)])\n",
      "/Users/jason/Documents/Software/anaconda3/lib/python3.7/site-packages/tensorflow/python/framework/dtypes.py:518: FutureWarning: Passing (type, 1) or '1type' as a synonym of type is deprecated; in a future version of numpy, it will be understood as (type, (1,)) / '(1,)type'.\n",
      "  _np_qint16 = np.dtype([(\"qint16\", np.int16, 1)])\n",
      "/Users/jason/Documents/Software/anaconda3/lib/python3.7/site-packages/tensorflow/python/framework/dtypes.py:519: FutureWarning: Passing (type, 1) or '1type' as a synonym of type is deprecated; in a future version of numpy, it will be understood as (type, (1,)) / '(1,)type'.\n",
      "  _np_quint16 = np.dtype([(\"quint16\", np.uint16, 1)])\n",
      "/Users/jason/Documents/Software/anaconda3/lib/python3.7/site-packages/tensorflow/python/framework/dtypes.py:520: FutureWarning: Passing (type, 1) or '1type' as a synonym of type is deprecated; in a future version of numpy, it will be understood as (type, (1,)) / '(1,)type'.\n",
      "  _np_qint32 = np.dtype([(\"qint32\", np.int32, 1)])\n",
      "/Users/jason/Documents/Software/anaconda3/lib/python3.7/site-packages/tensorflow/python/framework/dtypes.py:525: FutureWarning: Passing (type, 1) or '1type' as a synonym of type is deprecated; in a future version of numpy, it will be understood as (type, (1,)) / '(1,)type'.\n",
      "  np_resource = np.dtype([(\"resource\", np.ubyte, 1)])\n",
      "/Users/jason/Documents/Software/anaconda3/lib/python3.7/site-packages/tensorboard/compat/tensorflow_stub/dtypes.py:541: FutureWarning: Passing (type, 1) or '1type' as a synonym of type is deprecated; in a future version of numpy, it will be understood as (type, (1,)) / '(1,)type'.\n",
      "  _np_qint8 = np.dtype([(\"qint8\", np.int8, 1)])\n",
      "/Users/jason/Documents/Software/anaconda3/lib/python3.7/site-packages/tensorboard/compat/tensorflow_stub/dtypes.py:542: FutureWarning: Passing (type, 1) or '1type' as a synonym of type is deprecated; in a future version of numpy, it will be understood as (type, (1,)) / '(1,)type'.\n",
      "  _np_quint8 = np.dtype([(\"quint8\", np.uint8, 1)])\n",
      "/Users/jason/Documents/Software/anaconda3/lib/python3.7/site-packages/tensorboard/compat/tensorflow_stub/dtypes.py:543: FutureWarning: Passing (type, 1) or '1type' as a synonym of type is deprecated; in a future version of numpy, it will be understood as (type, (1,)) / '(1,)type'.\n",
      "  _np_qint16 = np.dtype([(\"qint16\", np.int16, 1)])\n",
      "/Users/jason/Documents/Software/anaconda3/lib/python3.7/site-packages/tensorboard/compat/tensorflow_stub/dtypes.py:544: FutureWarning: Passing (type, 1) or '1type' as a synonym of type is deprecated; in a future version of numpy, it will be understood as (type, (1,)) / '(1,)type'.\n",
      "  _np_quint16 = np.dtype([(\"quint16\", np.uint16, 1)])\n",
      "/Users/jason/Documents/Software/anaconda3/lib/python3.7/site-packages/tensorboard/compat/tensorflow_stub/dtypes.py:545: FutureWarning: Passing (type, 1) or '1type' as a synonym of type is deprecated; in a future version of numpy, it will be understood as (type, (1,)) / '(1,)type'.\n",
      "  _np_qint32 = np.dtype([(\"qint32\", np.int32, 1)])\n",
      "/Users/jason/Documents/Software/anaconda3/lib/python3.7/site-packages/tensorboard/compat/tensorflow_stub/dtypes.py:550: FutureWarning: Passing (type, 1) or '1type' as a synonym of type is deprecated; in a future version of numpy, it will be understood as (type, (1,)) / '(1,)type'.\n",
      "  np_resource = np.dtype([(\"resource\", np.ubyte, 1)])\n",
      "/Users/jason/Documents/Software/anaconda3/lib/python3.7/site-packages/pandas/core/reshape/merge.py:618: UserWarning: merging between different levels can give an unintended result (1 levels on the left, 2 on the right)\n",
      "  warnings.warn(msg, UserWarning)\n",
      "/Users/jason/Documents/Software/anaconda3/lib/python3.7/site-packages/pandas/core/generic.py:3936: PerformanceWarning: dropping on a non-lexsorted multi-index without a level parameter may impact performance.\n",
      "  obj = obj._drop_axis(labels, axis, level=level, errors=errors)\n"
     ]
    },
    {
     "name": "stdout",
     "output_type": "stream",
     "text": [
      "(4198, 33, 1) (4198, 1)\n",
      "(4198, 33, 1) (4198, 1)\n",
      "X_train_LSTM_all Predictor Shape:  (4198, 33, 2)\n",
      "y_train_LSTM Predictor Shape:  (4198, 1)\n"
     ]
    }
   ],
   "source": [
    "from keras.models import Sequential\n",
    "from keras.layers import LSTM, Dense, Dropout\n",
    "from sklearn.preprocessing import StandardScaler,MinMaxScaler\n",
    "\n",
    "#create 3 dimentional vectors for a single column\n",
    "def Create_feature(store_num,column_value,agg_way):    \n",
    "    dt_small=dt[dt[\"shop_id\"]<store_num]\n",
    "    dataset = dt_small.pivot_table(index = ['shop_id','item_id'],\n",
    "                                   values = [column_value],\n",
    "                                   columns = [\"date_block_num\"],\n",
    "                                   fill_value = 0,aggfunc=agg_way)\n",
    "    dataset.reset_index(inplace = True)\n",
    "    test_data=dt2[(dt2[\"date_block_num\"]==33) & (dt2[\"shop_id\"]<store_num)][['item_id','shop_id']]\n",
    "    dataset = pd.merge(test_data,dataset,on = ['item_id','shop_id'],how = 'left')\n",
    "    dataset.fillna(0,inplace = True)\n",
    "    dataset.drop(['shop_id','item_id'],inplace = True, axis = 1)\n",
    "    a = np.expand_dims(dataset.values[:,:-1],axis = 2)\n",
    "    b = dataset.values[:,-1:]\n",
    "    return a,b\n",
    "\n",
    "# get feature 1\n",
    "X_f1,y_f1=Create_feature(12,\"item_cnt_day\",\"sum\")\n",
    "#X_f1=X_f1.reshape(X_f1.shape[0], X_f1.shape[1])\n",
    "#scaler = StandardScaler()\n",
    "#scaler = MinMaxScaler(feature_range=(-1, 1))\n",
    "#X_f1 = scaler.fit_transform(X_f1)\n",
    "#X_f1=np.expand_dims(X_f1,axis = 2)\n",
    "print(X_f1.shape,y_f1.shape)\n",
    "# get feature 2\n",
    "X_f2,y_f2=Create_feature(12,\"item_price\",\"mean\")\n",
    "X_f2=X_f2.reshape(X_f2.shape[0], X_f2.shape[1])\n",
    "scaler = StandardScaler()\n",
    "scaler = MinMaxScaler(feature_range=(-1, 1))\n",
    "X_f2 = scaler.fit_transform(X_f2)\n",
    "X_f2=np.expand_dims(X_f2,axis = 2)\n",
    "print(X_f2.shape,y_f2.shape)\n",
    "#conbine two features\n",
    "X_train_LSTM_all = np.append(X_f1,X_f2,axis=2)\n",
    "print(\"X_train_LSTM_all Predictor Shape: \",X_train_LSTM_all.shape)\n",
    "y_train_LSTM=y_f1\n",
    "print(\"y_train_LSTM Predictor Shape: \",y_train_LSTM.shape)"
   ]
  },
  {
   "cell_type": "code",
   "execution_count": 271,
   "metadata": {},
   "outputs": [
    {
     "name": "stdout",
     "output_type": "stream",
     "text": [
      "Model: \"sequential_1\"\n",
      "_________________________________________________________________\n",
      "Layer (type)                 Output Shape              Param #   \n",
      "=================================================================\n",
      "lstm_1 (LSTM)                (None, 64)                17152     \n",
      "_________________________________________________________________\n",
      "dropout_1 (Dropout)          (None, 64)                0         \n",
      "_________________________________________________________________\n",
      "dense_1 (Dense)              (None, 1)                 65        \n",
      "=================================================================\n",
      "Total params: 17,217\n",
      "Trainable params: 17,217\n",
      "Non-trainable params: 0\n",
      "_________________________________________________________________\n"
     ]
    }
   ],
   "source": [
    "# our defining our model \n",
    "model2 = Sequential()\n",
    "model2.add(LSTM(units = 64,input_shape = (X_train_LSTM_all.shape[1],X_train_LSTM_all.shape[2])))\n",
    "model2.add(Dropout(0.4))\n",
    "model2.add(Dense(1))\n",
    "model2.compile(loss = 'mse',optimizer = 'adam', metrics = ['mean_squared_error'])\n",
    "model2.summary()"
   ]
  },
  {
   "cell_type": "code",
   "execution_count": 272,
   "metadata": {},
   "outputs": [
    {
     "name": "stdout",
     "output_type": "stream",
     "text": [
      "WARNING:tensorflow:From /Users/jason/Documents/Software/anaconda3/lib/python3.7/site-packages/keras/backend/tensorflow_backend.py:422: The name tf.global_variables is deprecated. Please use tf.compat.v1.global_variables instead.\n",
      "\n",
      "Epoch 1/3\n",
      "4198/4198 [==============================] - 7s 2ms/step - loss: 40.1088 - mean_squared_error: 40.1088\n",
      "Epoch 2/3\n",
      "4198/4198 [==============================] - 5s 1ms/step - loss: 38.3266 - mean_squared_error: 38.3266\n",
      "Epoch 3/3\n",
      "4198/4198 [==============================] - 5s 1ms/step - loss: 38.0517 - mean_squared_error: 38.0517\n",
      "CPU times: user 39 s, sys: 1.57 s, total: 40.6 s\n",
      "Wall time: 17.6 s\n"
     ]
    },
    {
     "data": {
      "text/plain": [
       "<keras.callbacks.callbacks.History at 0x1a27e185d0>"
      ]
     },
     "execution_count": 272,
     "metadata": {},
     "output_type": "execute_result"
    }
   ],
   "source": [
    "%%time\n",
    "model2.fit(X_train_LSTM_all,y_train_LSTM,batch_size = 128,epochs = 3) "
   ]
  },
  {
   "cell_type": "code",
   "execution_count": null,
   "metadata": {},
   "outputs": [],
   "source": []
  },
  {
   "cell_type": "markdown",
   "metadata": {},
   "source": [
    "# LSTM-TensorFlow"
   ]
  },
  {
   "cell_type": "code",
   "execution_count": null,
   "metadata": {},
   "outputs": [],
   "source": [
    "import tensorflow as tf\n",
    "from tensorflow.keras import Sequential, Model\n",
    "\n",
    "#create 3 dimentional vectors for a single column\n",
    "def Create_feature(store_num,column_value,agg_way):    \n",
    "    dt_small=dt[dt[\"shop_id\"]<store_num]\n",
    "    dataset = dt_small.pivot_table(index = ['shop_id','item_id'],\n",
    "                                   values = [column_value],\n",
    "                                   columns = [\"date_block_num\"],\n",
    "                                   fill_value = 0,aggfunc=agg_way)\n",
    "    dataset.reset_index(inplace = True)\n",
    "    test_data=dt2[(dt2[\"date_block_num\"]==33) & (dt2[\"shop_id\"]<store_num)][['item_id','shop_id']]\n",
    "    dataset = pd.merge(test_data,dataset,on = ['item_id','shop_id'],how = 'left')\n",
    "    dataset.fillna(0,inplace = True)\n",
    "    dataset.drop(['shop_id','item_id'],inplace = True, axis = 1)\n",
    "    a = np.expand_dims(dataset.values[:,:-1],axis = 2)\n",
    "    b = dataset.values[:,-1:]\n",
    "    return a,b\n",
    "\n",
    "# get feature 1\n",
    "X_f1,y_f1=Create_feature(9,\"item_cnt_day\",\"sum\")\n",
    "#X_f1=X_f1.reshape(X_f1.shape[0], X_f1.shape[1])\n",
    "#scaler = StandardScaler()\n",
    "#scaler = MinMaxScaler(feature_range=(-1, 1))\n",
    "#X_f1 = scaler.fit_transform(X_f1)\n",
    "#X_f1=np.expand_dims(X_f1,axis = 2)\n",
    "print(X_f1.shape,y_f1.shape)\n",
    "# get feature 2\n",
    "X_f2,y_f2=Create_feature(9,\"item_price\",\"mean\")\n",
    "X_f2=X_f2.reshape(X_f2.shape[0], X_f2.shape[1])\n",
    "scaler = StandardScaler()\n",
    "scaler = MinMaxScaler(feature_range=(-1, 1))\n",
    "X_f2 = scaler.fit_transform(X_f2)\n",
    "X_f2=np.expand_dims(X_f2,axis = 2)\n",
    "print(X_f2.shape,y_f2.shape)\n",
    "#conbine two features\n",
    "X_train_LSTM_all = np.append(X_f1,X_f2,axis=2)\n",
    "print(\"X_train_LSTM_all Predictor Shape: \",X_train_LSTM_all.shape)\n",
    "y_train_LSTM=y_f1\n",
    "print(\"y_train_LSTM Predictor Shape: \",y_train_LSTM.shape)"
   ]
  },
  {
   "cell_type": "code",
   "execution_count": null,
   "metadata": {},
   "outputs": [],
   "source": [
    "model4 = tf.keras.models.Sequential()\n",
    "model4.add(tf.keras.layers.LSTM(128,input_shape=(X_train_LSTM_all.shape[1],X_train_LSTM_all.shape[2])))\n",
    "model4.add(tf.keras.layers.Dropout(0.4))\n",
    "model4.add(tf.keras.layers.Dense(1,activation='relu'))\n",
    "model4.compile(optimizer=tf.keras.optimizers.RMSprop(), loss = 'mse', metrics = ['mean_squared_error'])\n",
    "model4.summary()"
   ]
  },
  {
   "cell_type": "code",
   "execution_count": null,
   "metadata": {},
   "outputs": [],
   "source": [
    "%%time\n",
    "model4.fit(X_train_LSTM_all,y_train_LSTM,batch_size = 128,epochs = 3) "
   ]
  }
 ],
 "metadata": {
  "kernelspec": {
   "display_name": "Python 3",
   "language": "python",
   "name": "python3"
  },
  "language_info": {
   "codemirror_mode": {
    "name": "ipython",
    "version": 3
   },
   "file_extension": ".py",
   "mimetype": "text/x-python",
   "name": "python",
   "nbconvert_exporter": "python",
   "pygments_lexer": "ipython3",
   "version": "3.7.4"
  }
 },
 "nbformat": 4,
 "nbformat_minor": 4
}
